{
 "cells": [
  {
   "cell_type": "markdown",
   "metadata": {},
   "source": [
    "# Hello\n",
    "This Program will be used to calculate the circumference of Rectangle "
   ]
  },
  {
   "cell_type": "code",
   "execution_count": 1,
   "metadata": {},
   "outputs": [
    {
     "name": "stdout",
     "output_type": "stream",
     "text": [
      "-Please enter the width of Rectangle in CM 22\n",
      "-Please enter the lenght of Rectangle in CM 1\n",
      "-The system will calcuate the circumference of Rectangle which has dimensions  = 22.0 X 1.0CM\n",
      "-The circumference of Rectangle= 46.0 CM\n"
     ]
    }
   ],
   "source": [
    "\n",
    "\n",
    "Width = float(input('-Please enter the width of Rectangle in CM '))\n",
    "Length = float(input('-Please enter the lenght of Rectangle in CM '))\n",
    "print('-The system will calcuate the circumference of Rectangle which has dimensions  = '+ str(Width)+ ' X '+ str(Length)+ 'CM')\n",
    "the_circumference= 2*(Width+Length)\n",
    "print('-The circumference of Rectangle= '+str(the_circumference)+ ' CM')\n",
    "\n",
    "\n",
    "\n",
    "\n",
    "\n",
    "\n",
    "\n",
    "\n",
    "\n"
   ]
  },
  {
   "cell_type": "code",
   "execution_count": null,
   "metadata": {},
   "outputs": [],
   "source": []
  },
  {
   "cell_type": "code",
   "execution_count": null,
   "metadata": {},
   "outputs": [],
   "source": []
  },
  {
   "cell_type": "code",
   "execution_count": null,
   "metadata": {},
   "outputs": [],
   "source": []
  },
  {
   "cell_type": "code",
   "execution_count": null,
   "metadata": {},
   "outputs": [],
   "source": []
  }
 ],
 "metadata": {
  "kernelspec": {
   "display_name": "Python 3",
   "language": "python",
   "name": "python3"
  },
  "language_info": {
   "codemirror_mode": {
    "name": "ipython",
    "version": 3
   },
   "file_extension": ".py",
   "mimetype": "text/x-python",
   "name": "python",
   "nbconvert_exporter": "python",
   "pygments_lexer": "ipython3",
   "version": "3.7.6"
  }
 },
 "nbformat": 4,
 "nbformat_minor": 5
}
